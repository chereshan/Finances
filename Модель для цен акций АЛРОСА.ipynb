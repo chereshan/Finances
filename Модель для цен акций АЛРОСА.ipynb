{
 "cells": [
  {
   "cell_type": "markdown",
   "id": "4018ee57",
   "metadata": {
    "slideshow": {
     "slide_type": "slide"
    },
    "toc": true
   },
   "source": [
    "<h1>Table of Contents<span class=\"tocSkip\"></span></h1>\n",
    "<div class=\"toc\"><ul class=\"toc-item\"><li><span><a href=\"#Загрузка-данных-с-Yahoo.Finance\" data-toc-modified-id=\"Загрузка-данных-с-Yahoo.Finance-1\"><span class=\"toc-item-num\">1&nbsp;&nbsp;</span>Загрузка данных с Yahoo.Finance</a></span><ul class=\"toc-item\"><li><span><a href=\"#Разделение-временного-ряда\" data-toc-modified-id=\"Разделение-временного-ряда-1.1\"><span class=\"toc-item-num\">1.1&nbsp;&nbsp;</span>Разделение временного ряда</a></span></li></ul></li><li><span><a href=\"#Описательные-статистики\" data-toc-modified-id=\"Описательные-статистики-2\"><span class=\"toc-item-num\">2&nbsp;&nbsp;</span>Описательные статистики</a></span></li><li><span><a href=\"#Автоподбор-параметров-модели-методом-минимизации-AIC\" data-toc-modified-id=\"Автоподбор-параметров-модели-методом-минимизации-AIC-3\"><span class=\"toc-item-num\">3&nbsp;&nbsp;</span>Автоподбор параметров модели методом минимизации AIC</a></span></li><li><span><a href=\"#Построение-модели-и-подгонка-кривой\" data-toc-modified-id=\"Построение-модели-и-подгонка-кривой-4\"><span class=\"toc-item-num\">4&nbsp;&nbsp;</span>Построение модели и подгонка кривой</a></span></li><li><span><a href=\"#Прогнозирование\" data-toc-modified-id=\"Прогнозирование-5\"><span class=\"toc-item-num\">5&nbsp;&nbsp;</span>Прогнозирование</a></span></li><li><span><a href=\"#Дополнительно-изученное**\" data-toc-modified-id=\"Дополнительно-изученное**-6\"><span class=\"toc-item-num\">6&nbsp;&nbsp;</span>Дополнительно изученное**</a></span><ul class=\"toc-item\"><li><span><a href=\"#Обработка-данных\" data-toc-modified-id=\"Обработка-данных-6.1\"><span class=\"toc-item-num\">6.1&nbsp;&nbsp;</span>Обработка данных</a></span></li><li><span><a href=\"#Скользящие-статистики\" data-toc-modified-id=\"Скользящие-статистики-6.2\"><span class=\"toc-item-num\">6.2&nbsp;&nbsp;</span>Скользящие статистики</a></span></li><li><span><a href=\"#Кривая-скользящей-статистики\" data-toc-modified-id=\"Кривая-скользящей-статистики-6.3\"><span class=\"toc-item-num\">6.3&nbsp;&nbsp;</span>Кривая скользящей статистики</a></span></li><li><span><a href=\"#Замена-формата-даты-времени-на-адату-в-американском-стиле\" data-toc-modified-id=\"Замена-формата-даты-времени-на-адату-в-американском-стиле-6.4\"><span class=\"toc-item-num\">6.4&nbsp;&nbsp;</span>Замена формата даты-времени на адату в американском стиле</a></span></li></ul></li></ul></div>"
   ]
  },
  {
   "cell_type": "markdown",
   "id": "1e4818c0",
   "metadata": {},
   "source": [
    "# Загрузка данных с Yahoo.Finance"
   ]
  },
  {
   "cell_type": "code",
   "execution_count": 1,
   "id": "19a0f68a",
   "metadata": {},
   "outputs": [],
   "source": [
    "import pandas as pd\n",
    "import pandas_datareader as pdr\n",
    "import matplotlib.pyplot as plt"
   ]
  },
  {
   "cell_type": "code",
   "execution_count": 146,
   "id": "a2798e54",
   "metadata": {
    "scrolled": true
   },
   "outputs": [
    {
     "name": "stdout",
     "output_type": "stream",
     "text": [
      "ALRS.ME_data.head(): \n",
      "Attributes  Adj Close      Close       High        Low       Open      Volume\n",
      "Symbols       ALRS.ME    ALRS.ME    ALRS.ME    ALRS.ME    ALRS.ME     ALRS.ME\n",
      "Date                                                                         \n",
      "2016-09-01  41.091286  75.699997  76.389999  75.459999  75.510002   7012000.0\n",
      "2016-09-02  41.541828  76.529999  76.750000  74.699997  76.370003  10608100.0\n",
      "2016-09-05  42.312630  77.949997  78.190002  76.550003  76.800003   7369500.0\n",
      "2016-09-06  44.103924  81.250000  81.250000  77.800003  78.089996  18165200.0\n",
      "2016-09-07  43.626251  80.370003  81.720001  80.220001  81.300003  14520400.0\n",
      "\n",
      "ALRS.ME_data.tail(): \n",
      "Attributes   Adj Close       Close        High         Low        Open  \\\n",
      "Symbols        ALRS.ME     ALRS.ME     ALRS.ME     ALRS.ME     ALRS.ME   \n",
      "Date                                                                     \n",
      "2021-11-25  125.190002  125.190002  128.199997  124.639999  127.000000   \n",
      "2021-11-26  121.300003  121.300003  124.260002  120.500000  123.750000   \n",
      "2021-11-29  125.239998  125.239998  127.250000  121.400002  122.980003   \n",
      "2021-11-30  127.860001  127.860001  129.490005  122.690002  123.699997   \n",
      "2021-12-01  129.580002  129.580002  130.850006  127.510002  129.000000   \n",
      "\n",
      "Attributes      Volume  \n",
      "Symbols        ALRS.ME  \n",
      "Date                    \n",
      "2021-11-25  10742001.0  \n",
      "2021-11-26  18431481.0  \n",
      "2021-11-29  27477830.0  \n",
      "2021-11-30  56359371.0  \n",
      "2021-12-01  25687340.0  \n",
      "\n"
     ]
    },
    {
     "data": {
      "image/png": "[encoded data removed]",
      "text/plain": [
       "<Figure size 432x288 with 1 Axes>"
      ]
     },
     "metadata": {
      "needs_background": "light"
     },
     "output_type": "display_data"
    }
   ],
   "source": [
    "tickers = ['ALRS.ME']\n",
    "data = pdr.data.DataReader(tickers, 'yahoo', '2016-9-01', '2021-12-01')\n",
    "print(f'{tickers[0]}_data.head(): \\n{data.head()}\\n')\n",
    "print(f'{tickers[0]}_data.tail(): \\n{data.tail()}\\n')\n",
    "plt.plot('Close', data=data, color='black', linestyle='-')\n",
    "plt.ylabel(f'{tickers[0]}')\n",
    "plt.xlabel('Дата')\n",
    "ALRS=data"
   ]
  },
  {
   "cell_type": "markdown",
   "id": "1fde237b",
   "metadata": {},
   "source": [
    "## Разделение временного ряда"
   ]
  },
  {
   "cell_type": "code",
   "execution_count": 147,
   "id": "9c57d911",
   "metadata": {},
   "outputs": [
    {
     "data": {
      "text/html": [
       "<div>\n",
       "<style scoped>\n",
       "    .dataframe tbody tr th:only-of-type {\n",
       "        vertical-align: middle;\n",
       "    }\n",
       "\n",
       "    .dataframe tbody tr th {\n",
       "        vertical-align: top;\n",
       "    }\n",
       "\n",
       "    .dataframe thead th {\n",
       "        text-align: right;\n",
       "    }\n",
       "</style>\n",
       "<table border=\"1\" class=\"dataframe\">\n",
       "  <thead>\n",
       "    <tr style=\"text-align: right;\">\n",
       "      <th>Symbols</th>\n",
       "      <th>ALRS.ME</th>\n",
       "    </tr>\n",
       "    <tr>\n",
       "      <th>Date</th>\n",
       "      <th></th>\n",
       "    </tr>\n",
       "  </thead>\n",
       "  <tbody>\n",
       "    <tr>\n",
       "      <th>2016-09-01</th>\n",
       "      <td>75.699997</td>\n",
       "    </tr>\n",
       "    <tr>\n",
       "      <th>2016-09-02</th>\n",
       "      <td>76.529999</td>\n",
       "    </tr>\n",
       "    <tr>\n",
       "      <th>2016-09-05</th>\n",
       "      <td>77.949997</td>\n",
       "    </tr>\n",
       "    <tr>\n",
       "      <th>2016-09-06</th>\n",
       "      <td>81.250000</td>\n",
       "    </tr>\n",
       "    <tr>\n",
       "      <th>2016-09-07</th>\n",
       "      <td>80.370003</td>\n",
       "    </tr>\n",
       "    <tr>\n",
       "      <th>...</th>\n",
       "      <td>...</td>\n",
       "    </tr>\n",
       "    <tr>\n",
       "      <th>2021-09-24</th>\n",
       "      <td>139.669998</td>\n",
       "    </tr>\n",
       "    <tr>\n",
       "      <th>2021-09-27</th>\n",
       "      <td>140.380005</td>\n",
       "    </tr>\n",
       "    <tr>\n",
       "      <th>2021-09-28</th>\n",
       "      <td>136.750000</td>\n",
       "    </tr>\n",
       "    <tr>\n",
       "      <th>2021-09-29</th>\n",
       "      <td>134.309998</td>\n",
       "    </tr>\n",
       "    <tr>\n",
       "      <th>2021-09-30</th>\n",
       "      <td>133.130005</td>\n",
       "    </tr>\n",
       "  </tbody>\n",
       "</table>\n",
       "<p>1280 rows × 1 columns</p>\n",
       "</div>"
      ],
      "text/plain": [
       "Symbols        ALRS.ME\n",
       "Date                  \n",
       "2016-09-01   75.699997\n",
       "2016-09-02   76.529999\n",
       "2016-09-05   77.949997\n",
       "2016-09-06   81.250000\n",
       "2016-09-07   80.370003\n",
       "...                ...\n",
       "2021-09-24  139.669998\n",
       "2021-09-27  140.380005\n",
       "2021-09-28  136.750000\n",
       "2021-09-29  134.309998\n",
       "2021-09-30  133.130005\n",
       "\n",
       "[1280 rows x 1 columns]"
      ]
     },
     "execution_count": 147,
     "metadata": {},
     "output_type": "execute_result"
    }
   ],
   "source": [
    "#Получаем временной ряд 2016-9-01 : 2021-10-01, т.е. до сентября включительнo\n",
    "y=ALRS['2016-9':'2021-9'].Close\n",
    "y"
   ]
  },
  {
   "cell_type": "code",
   "execution_count": 219,
   "id": "55ce4951",
   "metadata": {
    "scrolled": true
   },
   "outputs": [
    {
     "data": {
      "text/html": [
       "<div>\n",
       "<style scoped>\n",
       "    .dataframe tbody tr th:only-of-type {\n",
       "        vertical-align: middle;\n",
       "    }\n",
       "\n",
       "    .dataframe tbody tr th {\n",
       "        vertical-align: top;\n",
       "    }\n",
       "\n",
       "    .dataframe thead th {\n",
       "        text-align: right;\n",
       "    }\n",
       "</style>\n",
       "<table border=\"1\" class=\"dataframe\">\n",
       "  <thead>\n",
       "    <tr style=\"text-align: right;\">\n",
       "      <th>Symbols</th>\n",
       "      <th>ALRS.ME</th>\n",
       "    </tr>\n",
       "    <tr>\n",
       "      <th>Date</th>\n",
       "      <th></th>\n",
       "    </tr>\n",
       "  </thead>\n",
       "  <tbody>\n",
       "    <tr>\n",
       "      <th>2021-10-01</th>\n",
       "      <td>136.449997</td>\n",
       "    </tr>\n",
       "    <tr>\n",
       "      <th>2021-10-04</th>\n",
       "      <td>135.339996</td>\n",
       "    </tr>\n",
       "    <tr>\n",
       "      <th>2021-10-05</th>\n",
       "      <td>135.080002</td>\n",
       "    </tr>\n",
       "    <tr>\n",
       "      <th>2021-10-06</th>\n",
       "      <td>131.669998</td>\n",
       "    </tr>\n",
       "    <tr>\n",
       "      <th>2021-10-07</th>\n",
       "      <td>134.149994</td>\n",
       "    </tr>\n",
       "    <tr>\n",
       "      <th>2021-10-08</th>\n",
       "      <td>138.100006</td>\n",
       "    </tr>\n",
       "    <tr>\n",
       "      <th>2021-10-11</th>\n",
       "      <td>141.529999</td>\n",
       "    </tr>\n",
       "    <tr>\n",
       "      <th>2021-10-12</th>\n",
       "      <td>143.270004</td>\n",
       "    </tr>\n",
       "    <tr>\n",
       "      <th>2021-10-13</th>\n",
       "      <td>140.199997</td>\n",
       "    </tr>\n",
       "    <tr>\n",
       "      <th>2021-10-14</th>\n",
       "      <td>138.130005</td>\n",
       "    </tr>\n",
       "    <tr>\n",
       "      <th>2021-10-15</th>\n",
       "      <td>137.589996</td>\n",
       "    </tr>\n",
       "    <tr>\n",
       "      <th>2021-10-18</th>\n",
       "      <td>128.910004</td>\n",
       "    </tr>\n",
       "    <tr>\n",
       "      <th>2021-10-19</th>\n",
       "      <td>131.850006</td>\n",
       "    </tr>\n",
       "    <tr>\n",
       "      <th>2021-10-20</th>\n",
       "      <td>131.570007</td>\n",
       "    </tr>\n",
       "    <tr>\n",
       "      <th>2021-10-21</th>\n",
       "      <td>131.320007</td>\n",
       "    </tr>\n",
       "    <tr>\n",
       "      <th>2021-10-22</th>\n",
       "      <td>127.379997</td>\n",
       "    </tr>\n",
       "    <tr>\n",
       "      <th>2021-10-25</th>\n",
       "      <td>128.179993</td>\n",
       "    </tr>\n",
       "    <tr>\n",
       "      <th>2021-10-26</th>\n",
       "      <td>131.309998</td>\n",
       "    </tr>\n",
       "    <tr>\n",
       "      <th>2021-10-27</th>\n",
       "      <td>129.679993</td>\n",
       "    </tr>\n",
       "    <tr>\n",
       "      <th>2021-10-28</th>\n",
       "      <td>129.429993</td>\n",
       "    </tr>\n",
       "    <tr>\n",
       "      <th>2021-10-29</th>\n",
       "      <td>125.279999</td>\n",
       "    </tr>\n",
       "  </tbody>\n",
       "</table>\n",
       "</div>"
      ],
      "text/plain": [
       "Symbols        ALRS.ME\n",
       "Date                  \n",
       "2021-10-01  136.449997\n",
       "2021-10-04  135.339996\n",
       "2021-10-05  135.080002\n",
       "2021-10-06  131.669998\n",
       "2021-10-07  134.149994\n",
       "2021-10-08  138.100006\n",
       "2021-10-11  141.529999\n",
       "2021-10-12  143.270004\n",
       "2021-10-13  140.199997\n",
       "2021-10-14  138.130005\n",
       "2021-10-15  137.589996\n",
       "2021-10-18  128.910004\n",
       "2021-10-19  131.850006\n",
       "2021-10-20  131.570007\n",
       "2021-10-21  131.320007\n",
       "2021-10-22  127.379997\n",
       "2021-10-25  128.179993\n",
       "2021-10-26  131.309998\n",
       "2021-10-27  129.679993\n",
       "2021-10-28  129.429993\n",
       "2021-10-29  125.279999"
      ]
     },
     "execution_count": 219,
     "metadata": {},
     "output_type": "execute_result"
    }
   ],
   "source": [
    "#временной ряд за октябрь\n",
    "y_future=ALRS.loc['2021-10'].Close\n",
    "y_future"
   ]
  },
  {
   "cell_type": "markdown",
   "id": "10aef69a",
   "metadata": {
    "heading_collapsed": true
   },
   "source": [
    "# Описательные статистики"
   ]
  },
  {
   "cell_type": "code",
   "execution_count": 17,
   "id": "156181f7",
   "metadata": {
    "hidden": true,
    "scrolled": true
   },
   "outputs": [
    {
     "data": {
      "text/html": [
       "<div>\n",
       "<style scoped>\n",
       "    .dataframe tbody tr th:only-of-type {\n",
       "        vertical-align: middle;\n",
       "    }\n",
       "\n",
       "    .dataframe tbody tr th {\n",
       "        vertical-align: top;\n",
       "    }\n",
       "\n",
       "    .dataframe thead th {\n",
       "        text-align: right;\n",
       "    }\n",
       "</style>\n",
       "<table border=\"1\" class=\"dataframe\">\n",
       "  <thead>\n",
       "    <tr style=\"text-align: right;\">\n",
       "      <th>Symbols</th>\n",
       "      <th>ALRS.ME</th>\n",
       "    </tr>\n",
       "  </thead>\n",
       "  <tbody>\n",
       "    <tr>\n",
       "      <th>count</th>\n",
       "      <td>1280.000000</td>\n",
       "    </tr>\n",
       "    <tr>\n",
       "      <th>mean</th>\n",
       "      <td>90.406062</td>\n",
       "    </tr>\n",
       "    <tr>\n",
       "      <th>std</th>\n",
       "      <td>17.331275</td>\n",
       "    </tr>\n",
       "    <tr>\n",
       "      <th>min</th>\n",
       "      <td>54.000000</td>\n",
       "    </tr>\n",
       "    <tr>\n",
       "      <th>25%</th>\n",
       "      <td>77.965000</td>\n",
       "    </tr>\n",
       "    <tr>\n",
       "      <th>50%</th>\n",
       "      <td>89.339996</td>\n",
       "    </tr>\n",
       "    <tr>\n",
       "      <th>75%</th>\n",
       "      <td>98.952501</td>\n",
       "    </tr>\n",
       "    <tr>\n",
       "      <th>max</th>\n",
       "      <td>150.270004</td>\n",
       "    </tr>\n",
       "  </tbody>\n",
       "</table>\n",
       "</div>"
      ],
      "text/plain": [
       "Symbols      ALRS.ME\n",
       "count    1280.000000\n",
       "mean       90.406062\n",
       "std        17.331275\n",
       "min        54.000000\n",
       "25%        77.965000\n",
       "50%        89.339996\n",
       "75%        98.952501\n",
       "max       150.270004"
      ]
     },
     "execution_count": 17,
     "metadata": {},
     "output_type": "execute_result"
    }
   ],
   "source": [
    "y.describe()"
   ]
  },
  {
   "cell_type": "markdown",
   "id": "c57ac519",
   "metadata": {},
   "source": [
    "# Автоподбор параметров модели методом минимизации AIC"
   ]
  },
  {
   "cell_type": "code",
   "execution_count": 25,
   "id": "a8398fa3",
   "metadata": {},
   "outputs": [],
   "source": [
    "import pmdarima as pm "
   ]
  },
  {
   "cell_type": "code",
   "execution_count": 19,
   "id": "64182d36",
   "metadata": {},
   "outputs": [],
   "source": [
    "from pmdarima.arima.stationarity import ADFTest"
   ]
  },
  {
   "cell_type": "code",
   "execution_count": 67,
   "id": "bba5a6af",
   "metadata": {},
   "outputs": [],
   "source": [
    "y=y.dropna()"
   ]
  },
  {
   "cell_type": "code",
   "execution_count": 68,
   "id": "cb8c33cb",
   "metadata": {},
   "outputs": [],
   "source": [
    "# ADF - Augmented Dickey–Fuller test. Тест на единичной корень, т.е. стационарность\n",
    "adf_test = ADFTest(alpha=0.05)\n",
    "p_val, should_diff = adf_test.should_diff(y)"
   ]
  },
  {
   "cell_type": "code",
   "execution_count": 69,
   "id": "6596d804",
   "metadata": {
    "scrolled": false
   },
   "outputs": [
    {
     "data": {
      "text/plain": [
       "(0.9114444418619679, True)"
      ]
     },
     "execution_count": 69,
     "metadata": {},
     "output_type": "execute_result"
    }
   ],
   "source": [
    "p_val, should_diff\n",
    "# Не стационарный процесс. Нужно дифференцировать"
   ]
  },
  {
   "cell_type": "code",
   "execution_count": 70,
   "id": "7bd0d548",
   "metadata": {},
   "outputs": [
    {
     "data": {
      "text/plain": [
       "1"
      ]
     },
     "execution_count": 70,
     "metadata": {},
     "output_type": "execute_result"
    }
   ],
   "source": [
    "#d=1\n",
    "from pmdarima.arima.utils import ndiffs\n",
    "n_adf = ndiffs(y, test='adf')  # -> 0\n",
    "n_adf "
   ]
  },
  {
   "cell_type": "code",
   "execution_count": 71,
   "id": "cdf0b8fb",
   "metadata": {},
   "outputs": [
    {
     "name": "stdout",
     "output_type": "stream",
     "text": [
      "Performing stepwise search to minimize aic\n",
      " ARIMA(2,1,2)(0,0,0)[0] intercept   : AIC=4782.527, Time=2.67 sec\n",
      " ARIMA(0,1,0)(0,0,0)[0] intercept   : AIC=4790.097, Time=0.03 sec\n",
      " ARIMA(1,1,0)(0,0,0)[0] intercept   : AIC=4787.888, Time=0.20 sec\n",
      " ARIMA(0,1,1)(0,0,0)[0] intercept   : AIC=4788.080, Time=0.18 sec\n",
      " ARIMA(0,1,0)(0,0,0)[0]             : AIC=4789.141, Time=0.07 sec\n",
      " ARIMA(1,1,2)(0,0,0)[0] intercept   : AIC=4789.392, Time=0.88 sec\n",
      " ARIMA(2,1,1)(0,0,0)[0] intercept   : AIC=4789.570, Time=0.85 sec\n",
      " ARIMA(3,1,2)(0,0,0)[0] intercept   : AIC=4792.526, Time=1.95 sec\n",
      " ARIMA(2,1,3)(0,0,0)[0] intercept   : AIC=4792.497, Time=1.88 sec\n",
      " ARIMA(1,1,1)(0,0,0)[0] intercept   : AIC=4789.607, Time=0.51 sec\n",
      " ARIMA(1,1,3)(0,0,0)[0] intercept   : AIC=4791.207, Time=0.88 sec\n",
      " ARIMA(3,1,1)(0,0,0)[0] intercept   : AIC=4791.291, Time=1.16 sec\n",
      " ARIMA(3,1,3)(0,0,0)[0] intercept   : AIC=4786.492, Time=3.54 sec\n",
      " ARIMA(2,1,2)(0,0,0)[0]             : AIC=4781.524, Time=1.68 sec\n",
      " ARIMA(1,1,2)(0,0,0)[0]             : AIC=4788.297, Time=0.47 sec\n",
      " ARIMA(2,1,1)(0,0,0)[0]             : AIC=4788.468, Time=0.51 sec\n",
      " ARIMA(3,1,2)(0,0,0)[0]             : AIC=4791.672, Time=0.89 sec\n",
      " ARIMA(2,1,3)(0,0,0)[0]             : AIC=4791.636, Time=1.05 sec\n",
      " ARIMA(1,1,1)(0,0,0)[0]             : AIC=4788.509, Time=0.24 sec\n",
      " ARIMA(1,1,3)(0,0,0)[0]             : AIC=4790.135, Time=0.52 sec\n",
      " ARIMA(3,1,1)(0,0,0)[0]             : AIC=4790.217, Time=0.49 sec\n",
      " ARIMA(3,1,3)(0,0,0)[0]             : AIC=inf, Time=2.64 sec\n",
      "\n",
      "Best model:  ARIMA(2,1,2)(0,0,0)[0]          \n",
      "Total fit time: 23.313 seconds\n"
     ]
    }
   ],
   "source": [
    "auto = pm.auto_arima(y,stepwise=1,\n",
    "                     suppress_warnings=True, max_p=6,max_P=4,max_D=4,\n",
    "                     max_order=None, trace=True)"
   ]
  },
  {
   "cell_type": "code",
   "execution_count": 28,
   "id": "614885ef",
   "metadata": {
    "scrolled": true
   },
   "outputs": [
    {
     "data": {
      "text/plain": [
       "ARIMA(order=(2, 1, 2), scoring_args={}, suppress_warnings=True,\n",
       "      with_intercept=False)"
      ]
     },
     "execution_count": 28,
     "metadata": {},
     "output_type": "execute_result"
    }
   ],
   "source": [
    "#Подобранные параметры ARIMA\n",
    "auto.fit(y)"
   ]
  },
  {
   "cell_type": "markdown",
   "id": "edea0bc4",
   "metadata": {},
   "source": [
    "# Построение модели и подгонка кривой"
   ]
  },
  {
   "cell_type": "code",
   "execution_count": 30,
   "id": "95cb3f1e",
   "metadata": {},
   "outputs": [],
   "source": [
    "import statsmodels.api as sm"
   ]
  },
  {
   "cell_type": "code",
   "execution_count": 149,
   "id": "63fcf008",
   "metadata": {
    "scrolled": true
   },
   "outputs": [
    {
     "data": {
      "text/html": [
       "<table class=\"simpletable\">\n",
       "<caption>SARIMAX Results</caption>\n",
       "<tr>\n",
       "  <th>Dep. Variable:</th>        <td>ALRS.ME</td>     <th>  No. Observations:  </th>   <td>1856</td>   \n",
       "</tr>\n",
       "<tr>\n",
       "  <th>Model:</th>           <td>SARIMAX(2, 1, 2)</td> <th>  Log Likelihood     </th> <td>-2441.070</td>\n",
       "</tr>\n",
       "<tr>\n",
       "  <th>Date:</th>            <td>Sat, 11 Dec 2021</td> <th>  AIC                </th> <td>4894.140</td> \n",
       "</tr>\n",
       "<tr>\n",
       "  <th>Time:</th>                <td>19:23:47</td>     <th>  BIC                </th> <td>4927.294</td> \n",
       "</tr>\n",
       "<tr>\n",
       "  <th>Sample:</th>             <td>09-01-2016</td>    <th>  HQIC               </th> <td>4906.360</td> \n",
       "</tr>\n",
       "<tr>\n",
       "  <th></th>                   <td>- 09-30-2021</td>   <th>                     </th>     <td> </td>    \n",
       "</tr>\n",
       "<tr>\n",
       "  <th>Covariance Type:</th>        <td>opg</td>       <th>                     </th>     <td> </td>    \n",
       "</tr>\n",
       "</table>\n",
       "<table class=\"simpletable\">\n",
       "<tr>\n",
       "      <td></td>         <th>coef</th>     <th>std err</th>      <th>z</th>      <th>P>|z|</th>  <th>[0.025</th>    <th>0.975]</th>  \n",
       "</tr>\n",
       "<tr>\n",
       "  <th>intercept</th> <td>    0.0230</td> <td>    0.030</td> <td>    0.763</td> <td> 0.445</td> <td>   -0.036</td> <td>    0.082</td>\n",
       "</tr>\n",
       "<tr>\n",
       "  <th>ar.L1</th>     <td>    0.8278</td> <td>    0.367</td> <td>    2.253</td> <td> 0.024</td> <td>    0.108</td> <td>    1.548</td>\n",
       "</tr>\n",
       "<tr>\n",
       "  <th>ar.L2</th>     <td>   -0.5718</td> <td>    0.264</td> <td>   -2.165</td> <td> 0.030</td> <td>   -1.089</td> <td>   -0.054</td>\n",
       "</tr>\n",
       "<tr>\n",
       "  <th>ma.L1</th>     <td>   -0.8803</td> <td>    0.366</td> <td>   -2.404</td> <td> 0.016</td> <td>   -1.598</td> <td>   -0.163</td>\n",
       "</tr>\n",
       "<tr>\n",
       "  <th>ma.L2</th>     <td>    0.6076</td> <td>    0.250</td> <td>    2.428</td> <td> 0.015</td> <td>    0.117</td> <td>    1.098</td>\n",
       "</tr>\n",
       "<tr>\n",
       "  <th>sigma2</th>    <td>    2.1201</td> <td>    0.057</td> <td>   37.375</td> <td> 0.000</td> <td>    2.009</td> <td>    2.231</td>\n",
       "</tr>\n",
       "</table>\n",
       "<table class=\"simpletable\">\n",
       "<tr>\n",
       "  <th>Ljung-Box (L1) (Q):</th>     <td>13.59</td> <th>  Jarque-Bera (JB):  </th> <td>2050.43</td>\n",
       "</tr>\n",
       "<tr>\n",
       "  <th>Prob(Q):</th>                <td>0.00</td>  <th>  Prob(JB):          </th>  <td>0.00</td>  \n",
       "</tr>\n",
       "<tr>\n",
       "  <th>Heteroskedasticity (H):</th> <td>1.46</td>  <th>  Skew:              </th>  <td>-0.21</td> \n",
       "</tr>\n",
       "<tr>\n",
       "  <th>Prob(H) (two-sided):</th>    <td>0.00</td>  <th>  Kurtosis:          </th>  <td>8.13</td>  \n",
       "</tr>\n",
       "</table><br/><br/>Warnings:<br/>[1] Covariance matrix calculated using the outer product of gradients (complex-step)."
      ],
      "text/plain": [
       "<class 'statsmodels.iolib.summary.Summary'>\n",
       "\"\"\"\n",
       "                               SARIMAX Results                                \n",
       "==============================================================================\n",
       "Dep. Variable:                ALRS.ME   No. Observations:                 1856\n",
       "Model:               SARIMAX(2, 1, 2)   Log Likelihood               -2441.070\n",
       "Date:                Sat, 11 Dec 2021   AIC                           4894.140\n",
       "Time:                        19:23:47   BIC                           4927.294\n",
       "Sample:                    09-01-2016   HQIC                          4906.360\n",
       "                         - 09-30-2021                                         \n",
       "Covariance Type:                  opg                                         \n",
       "==============================================================================\n",
       "                 coef    std err          z      P>|z|      [0.025      0.975]\n",
       "------------------------------------------------------------------------------\n",
       "intercept      0.0230      0.030      0.763      0.445      -0.036       0.082\n",
       "ar.L1          0.8278      0.367      2.253      0.024       0.108       1.548\n",
       "ar.L2         -0.5718      0.264     -2.165      0.030      -1.089      -0.054\n",
       "ma.L1         -0.8803      0.366     -2.404      0.016      -1.598      -0.163\n",
       "ma.L2          0.6076      0.250      2.428      0.015       0.117       1.098\n",
       "sigma2         2.1201      0.057     37.375      0.000       2.009       2.231\n",
       "===================================================================================\n",
       "Ljung-Box (L1) (Q):                  13.59   Jarque-Bera (JB):              2050.43\n",
       "Prob(Q):                              0.00   Prob(JB):                         0.00\n",
       "Heteroskedasticity (H):               1.46   Skew:                            -0.21\n",
       "Prob(H) (two-sided):                  0.00   Kurtosis:                         8.13\n",
       "===================================================================================\n",
       "\n",
       "Warnings:\n",
       "[1] Covariance matrix calculated using the outer product of gradients (complex-step).\n",
       "\"\"\""
      ]
     },
     "execution_count": 149,
     "metadata": {},
     "output_type": "execute_result"
    }
   ],
   "source": [
    "y=y.asfreq('d')\n",
    "mod = sm.tsa.SARIMAX(y, order=(2, 1, 2), trend='c')\n",
    "mod.fit().summary()"
   ]
  },
  {
   "cell_type": "code",
   "execution_count": 150,
   "id": "18f7785d",
   "metadata": {
    "scrolled": true
   },
   "outputs": [
    {
     "data": {
      "text/html": [
       "<div>\n",
       "<style scoped>\n",
       "    .dataframe tbody tr th:only-of-type {\n",
       "        vertical-align: middle;\n",
       "    }\n",
       "\n",
       "    .dataframe tbody tr th {\n",
       "        vertical-align: top;\n",
       "    }\n",
       "\n",
       "    .dataframe thead th {\n",
       "        text-align: right;\n",
       "    }\n",
       "</style>\n",
       "<table border=\"1\" class=\"dataframe\">\n",
       "  <thead>\n",
       "    <tr style=\"text-align: right;\">\n",
       "      <th></th>\n",
       "      <th>predicted_mean</th>\n",
       "    </tr>\n",
       "    <tr>\n",
       "      <th>Date</th>\n",
       "      <th></th>\n",
       "    </tr>\n",
       "  </thead>\n",
       "  <tbody>\n",
       "    <tr>\n",
       "      <th>2016-09-01</th>\n",
       "      <td>0.030858</td>\n",
       "    </tr>\n",
       "    <tr>\n",
       "      <th>2016-09-02</th>\n",
       "      <td>75.730847</td>\n",
       "    </tr>\n",
       "    <tr>\n",
       "      <th>2016-09-03</th>\n",
       "      <td>76.519964</td>\n",
       "    </tr>\n",
       "    <tr>\n",
       "      <th>2016-09-04</th>\n",
       "      <td>76.543501</td>\n",
       "    </tr>\n",
       "    <tr>\n",
       "      <th>2016-09-05</th>\n",
       "      <td>76.591682</td>\n",
       "    </tr>\n",
       "    <tr>\n",
       "      <th>...</th>\n",
       "      <td>...</td>\n",
       "    </tr>\n",
       "    <tr>\n",
       "      <th>2021-09-26</th>\n",
       "      <td>139.777586</td>\n",
       "    </tr>\n",
       "    <tr>\n",
       "      <th>2021-09-27</th>\n",
       "      <td>139.826199</td>\n",
       "    </tr>\n",
       "    <tr>\n",
       "      <th>2021-09-28</th>\n",
       "      <td>140.400129</td>\n",
       "    </tr>\n",
       "    <tr>\n",
       "      <th>2021-09-29</th>\n",
       "      <td>136.961462</td>\n",
       "    </tr>\n",
       "    <tr>\n",
       "      <th>2021-09-30</th>\n",
       "      <td>134.511829</td>\n",
       "    </tr>\n",
       "  </tbody>\n",
       "</table>\n",
       "<p>1856 rows × 1 columns</p>\n",
       "</div>"
      ],
      "text/plain": [
       "            predicted_mean\n",
       "Date                      \n",
       "2016-09-01        0.030858\n",
       "2016-09-02       75.730847\n",
       "2016-09-03       76.519964\n",
       "2016-09-04       76.543501\n",
       "2016-09-05       76.591682\n",
       "...                    ...\n",
       "2021-09-26      139.777586\n",
       "2021-09-27      139.826199\n",
       "2021-09-28      140.400129\n",
       "2021-09-29      136.961462\n",
       "2021-09-30      134.511829\n",
       "\n",
       "[1856 rows x 1 columns]"
      ]
     },
     "execution_count": 150,
     "metadata": {},
     "output_type": "execute_result"
    }
   ],
   "source": [
    "preds=mod.fit().predict()\n",
    "preds=preds.to_frame()\n",
    "preds"
   ]
  },
  {
   "cell_type": "code",
   "execution_count": 274,
   "id": "9b74e0d1",
   "metadata": {
    "scrolled": false
   },
   "outputs": [
    {
     "data": {
      "text/plain": [
       "<matplotlib.legend.Legend at 0x1e709677e48>"
      ]
     },
     "execution_count": 274,
     "metadata": {},
     "output_type": "execute_result"
    },
    {
     "data": {
      "image/png": "[encoded data removed]",
      "text/plain": [
       "<Figure size 720x216 with 1 Axes>"
      ]
     },
     "metadata": {
      "needs_background": "light"
     },
     "output_type": "display_data"
    }
   ],
   "source": [
    "# preds.plot()\n",
    "\n",
    "plt.figure(figsize=(10, 3))# plt.figure(6,8)\n",
    "plt.plot(y.values,c='black',label='факт')\n",
    "plt.plot(preds.values[1:],ls='--',c='r',label='модель')\n",
    "plt.grid()\n",
    "plt.legend()"
   ]
  },
  {
   "cell_type": "code",
   "execution_count": 203,
   "id": "7c56cfbb",
   "metadata": {
    "scrolled": false
   },
   "outputs": [
    {
     "data": {
      "text/plain": [
       "1.5746361259267974"
      ]
     },
     "execution_count": 203,
     "metadata": {},
     "output_type": "execute_result"
    }
   ],
   "source": [
    "#Стандартное отклонение прогноза\n",
    "square_errors=(y[\"ALRS.ME\"][1:]-preds['predicted_mean'][1:])**2\n",
    "square_errors=square_errors.dropna()\n",
    "st_otkl=(sum(square_errors)/len(square_errors))**(0.5)\n",
    "st_otkl"
   ]
  },
  {
   "cell_type": "code",
   "execution_count": 273,
   "id": "a2dfdb08",
   "metadata": {
    "scrolled": false
   },
   "outputs": [
    {
     "data": {
      "text/plain": [
       "<matplotlib.legend.Legend at 0x1e709651f88>"
      ]
     },
     "execution_count": 273,
     "metadata": {},
     "output_type": "execute_result"
    },
    {
     "data": {
      "image/png": "[encoded data removed]",
      "text/plain": [
       "<Figure size 720x216 with 1 Axes>"
      ]
     },
     "metadata": {
      "needs_background": "light"
     },
     "output_type": "display_data"
    }
   ],
   "source": [
    "plt.figure(figsize=(10, 3))\n",
    "plt.plot(y[\"ALRS.ME\"][1:]-preds['predicted_mean'][1:],c='black')\n",
    "plt.axhline(y=sum(square_errors)/len(square_errors), color='r', linestyle='--',\n",
    "           label=f'cт.откл={round(sum(square_errors)/len(square_errors),4)}')\n",
    "plt.grid()\n",
    "plt.title('Отклонение модели')\n",
    "plt.legend()"
   ]
  },
  {
   "cell_type": "markdown",
   "id": "361315f4",
   "metadata": {},
   "source": [
    "# Прогнозирование"
   ]
  },
  {
   "cell_type": "code",
   "execution_count": 272,
   "id": "db0fd05d",
   "metadata": {
    "scrolled": true
   },
   "outputs": [
    {
     "data": {
      "image/png": "[encoded data removed]",
      "text/plain": [
       "<Figure size 720x216 with 1 Axes>"
      ]
     },
     "metadata": {
      "needs_background": "light"
     },
     "output_type": "display_data"
    }
   ],
   "source": [
    "plt.figure(figsize=(10, 3))\n",
    "y_without_na=y.dropna()\n",
    "plt.plot(y_future)\n",
    "plt.title('ALRS за октябрь')\n",
    "plt.grid()"
   ]
  },
  {
   "cell_type": "code",
   "execution_count": 230,
   "id": "73e2e22f",
   "metadata": {},
   "outputs": [
    {
     "name": "stderr",
     "output_type": "stream",
     "text": [
      "C:\\Users\\enkid\\anaconda3\\lib\\site-packages\\statsmodels\\tsa\\base\\tsa_model.py:132: FutureWarning: The 'freq' argument in Timestamp is deprecated and will be removed in a future version.\n",
      "  date_key = Timestamp(key, freq=base_index.freq)\n"
     ]
    },
    {
     "data": {
      "text/plain": [
       "2021-10-01    133.177786\n",
       "2021-10-02    133.075644\n",
       "2021-10-03    132.986722\n",
       "2021-10-04    132.994474\n",
       "2021-10-05    133.074698\n",
       "2021-10-06    133.159636\n",
       "2021-10-07    133.207035\n",
       "2021-10-08    133.220662\n",
       "2021-10-09    133.227796\n",
       "2021-10-10    133.248869\n",
       "2021-10-11    133.285191\n",
       "2021-10-12    133.326169\n",
       "2021-10-13    133.362280\n",
       "2021-10-14    133.391700\n",
       "2021-10-15    133.418364\n",
       "2021-10-16    133.446572\n",
       "2021-10-17    133.477635\n",
       "2021-10-18    133.510178\n",
       "2021-10-19    133.542314\n",
       "2021-10-20    133.573266\n",
       "2021-10-21    133.603472\n",
       "2021-10-22    133.633736\n",
       "2021-10-23    133.664475\n",
       "2021-10-24    133.695575\n",
       "2021-10-25    133.726701\n",
       "2021-10-26    133.757642\n",
       "2021-10-27    133.788417\n",
       "2021-10-28    133.819157\n",
       "2021-10-29    133.849966\n",
       "Freq: D, Name: predicted_mean, dtype: float64"
      ]
     },
     "execution_count": 230,
     "metadata": {},
     "output_type": "execute_result"
    }
   ],
   "source": [
    "y_oct=mod.fit().forecast('2021-10-29')\n",
    "y_oct"
   ]
  },
  {
   "cell_type": "code",
   "execution_count": 271,
   "id": "4de2e88d",
   "metadata": {},
   "outputs": [
    {
     "data": {
      "image/png": "[encoded data removed]",
      "text/plain": [
       "<Figure size 720x216 with 1 Axes>"
      ]
     },
     "metadata": {
      "needs_background": "light"
     },
     "output_type": "display_data"
    }
   ],
   "source": [
    "plt.figure(figsize=(10, 3))\n",
    "plt.plot(y_oct,label='прогноз',ls='--',c='r')\n",
    "plt.plot(y_future,label='факт')\n",
    "plt.legend()\n",
    "plt.grid()"
   ]
  },
  {
   "cell_type": "code",
   "execution_count": 270,
   "id": "8654d606",
   "metadata": {
    "scrolled": false
   },
   "outputs": [
    {
     "data": {
      "image/png": "[encoded data removed]",
      "text/plain": [
       "<Figure size 720x216 with 1 Axes>"
      ]
     },
     "metadata": {
      "needs_background": "light"
     },
     "output_type": "display_data"
    }
   ],
   "source": [
    "plt.figure(figsize=(10, 3))\n",
    "y_oct_error=(y_oct.to_frame()['predicted_mean']-y_future['ALRS.ME'])\n",
    "y_oct_error_without_na=y_oct_error.dropna()\n",
    "st_er=np.sum(y_oct_error**2)**0.5/len(y_oct_error_without_na)\n",
    "plt.plot(y_oct_error_without_na,label='отклонение прогноза')\n",
    "plt.axhline(np.sum(y_oct_error**2)**0.5/len(y_oct_error_without_na),c='r',\n",
    "            label=f'ст.откл={round(st_er,4)}')\n",
    "plt.legend()\n",
    "plt.grid()"
   ]
  },
  {
   "cell_type": "markdown",
   "id": "e56fe889",
   "metadata": {},
   "source": [
    "# Дополнительно изученное**"
   ]
  },
  {
   "cell_type": "markdown",
   "id": "f95b9f7e",
   "metadata": {},
   "source": [
    "## Обработка данных\n",
    "Загружаем данные с сайта Investing.com"
   ]
  },
  {
   "cell_type": "code",
   "execution_count": 311,
   "id": "3999cede",
   "metadata": {
    "scrolled": true
   },
   "outputs": [
    {
     "data": {
      "text/html": [
       "<div>\n",
       "<style scoped>\n",
       "    .dataframe tbody tr th:only-of-type {\n",
       "        vertical-align: middle;\n",
       "    }\n",
       "\n",
       "    .dataframe tbody tr th {\n",
       "        vertical-align: top;\n",
       "    }\n",
       "\n",
       "    .dataframe thead th {\n",
       "        text-align: right;\n",
       "    }\n",
       "</style>\n",
       "<table border=\"1\" class=\"dataframe\">\n",
       "  <thead>\n",
       "    <tr style=\"text-align: right;\">\n",
       "      <th></th>\n",
       "      <th>Дата</th>\n",
       "      <th>Цена</th>\n",
       "      <th>Откр.</th>\n",
       "      <th>Макс.</th>\n",
       "      <th>Мин.</th>\n",
       "      <th>Объём</th>\n",
       "      <th>Изм. %</th>\n",
       "    </tr>\n",
       "  </thead>\n",
       "  <tbody>\n",
       "    <tr>\n",
       "      <th>0</th>\n",
       "      <td>03.12.2021</td>\n",
       "      <td>127.73</td>\n",
       "      <td>130.27</td>\n",
       "      <td>130.60</td>\n",
       "      <td>126.50</td>\n",
       "      <td>18,41M</td>\n",
       "      <td>-1,84%</td>\n",
       "    </tr>\n",
       "    <tr>\n",
       "      <th>1</th>\n",
       "      <td>02.12.2021</td>\n",
       "      <td>130.13</td>\n",
       "      <td>128.32</td>\n",
       "      <td>130.50</td>\n",
       "      <td>126.73</td>\n",
       "      <td>16,49M</td>\n",
       "      <td>1,01%</td>\n",
       "    </tr>\n",
       "    <tr>\n",
       "      <th>2</th>\n",
       "      <td>01.12.2021</td>\n",
       "      <td>128.83</td>\n",
       "      <td>129.00</td>\n",
       "      <td>130.85</td>\n",
       "      <td>127.51</td>\n",
       "      <td>27,16M</td>\n",
       "      <td>0,30%</td>\n",
       "    </tr>\n",
       "    <tr>\n",
       "      <th>3</th>\n",
       "      <td>30.11.2021</td>\n",
       "      <td>128.44</td>\n",
       "      <td>123.70</td>\n",
       "      <td>129.49</td>\n",
       "      <td>122.55</td>\n",
       "      <td>59,50M</td>\n",
       "      <td>2,76%</td>\n",
       "    </tr>\n",
       "    <tr>\n",
       "      <th>4</th>\n",
       "      <td>29.11.2021</td>\n",
       "      <td>124.99</td>\n",
       "      <td>122.98</td>\n",
       "      <td>127.25</td>\n",
       "      <td>121.40</td>\n",
       "      <td>29,04M</td>\n",
       "      <td>3,66%</td>\n",
       "    </tr>\n",
       "    <tr>\n",
       "      <th>...</th>\n",
       "      <td>...</td>\n",
       "      <td>...</td>\n",
       "      <td>...</td>\n",
       "      <td>...</td>\n",
       "      <td>...</td>\n",
       "      <td>...</td>\n",
       "      <td>...</td>\n",
       "    </tr>\n",
       "    <tr>\n",
       "      <th>2520</th>\n",
       "      <td>06.12.2011</td>\n",
       "      <td>34.80</td>\n",
       "      <td>37.00</td>\n",
       "      <td>37.10</td>\n",
       "      <td>34.75</td>\n",
       "      <td>831,10K</td>\n",
       "      <td>-6,20%</td>\n",
       "    </tr>\n",
       "    <tr>\n",
       "      <th>2521</th>\n",
       "      <td>05.12.2011</td>\n",
       "      <td>37.10</td>\n",
       "      <td>38.00</td>\n",
       "      <td>41.98</td>\n",
       "      <td>36.70</td>\n",
       "      <td>1,55M</td>\n",
       "      <td>-19,10%</td>\n",
       "    </tr>\n",
       "    <tr>\n",
       "      <th>2522</th>\n",
       "      <td>02.12.2011</td>\n",
       "      <td>45.86</td>\n",
       "      <td>103.56</td>\n",
       "      <td>107.02</td>\n",
       "      <td>45.86</td>\n",
       "      <td>1,90M</td>\n",
       "      <td>-40,01%</td>\n",
       "    </tr>\n",
       "    <tr>\n",
       "      <th>2523</th>\n",
       "      <td>01.12.2011</td>\n",
       "      <td>76.44</td>\n",
       "      <td>64.50</td>\n",
       "      <td>76.44</td>\n",
       "      <td>64.50</td>\n",
       "      <td>11,90K</td>\n",
       "      <td>40,00%</td>\n",
       "    </tr>\n",
       "    <tr>\n",
       "      <th>2524</th>\n",
       "      <td>30.11.2011</td>\n",
       "      <td>54.60</td>\n",
       "      <td>48.32</td>\n",
       "      <td>54.60</td>\n",
       "      <td>42.00</td>\n",
       "      <td>76,80K</td>\n",
       "      <td>40,00%</td>\n",
       "    </tr>\n",
       "  </tbody>\n",
       "</table>\n",
       "<p>2525 rows × 7 columns</p>\n",
       "</div>"
      ],
      "text/plain": [
       "            Дата    Цена   Откр.   Макс.    Мин.    Объём   Изм. %\n",
       "0     03.12.2021  127.73  130.27  130.60  126.50   18,41M   -1,84%\n",
       "1     02.12.2021  130.13  128.32  130.50  126.73   16,49M    1,01%\n",
       "2     01.12.2021  128.83  129.00  130.85  127.51   27,16M    0,30%\n",
       "3     30.11.2021  128.44  123.70  129.49  122.55   59,50M    2,76%\n",
       "4     29.11.2021  124.99  122.98  127.25  121.40   29,04M    3,66%\n",
       "...          ...     ...     ...     ...     ...      ...      ...\n",
       "2520  06.12.2011   34.80   37.00   37.10   34.75  831,10K   -6,20%\n",
       "2521  05.12.2011   37.10   38.00   41.98   36.70    1,55M  -19,10%\n",
       "2522  02.12.2011   45.86  103.56  107.02   45.86    1,90M  -40,01%\n",
       "2523  01.12.2011   76.44   64.50   76.44   64.50   11,90K   40,00%\n",
       "2524  30.11.2011   54.60   48.32   54.60   42.00   76,80K   40,00%\n",
       "\n",
       "[2525 rows x 7 columns]"
      ]
     },
     "execution_count": 311,
     "metadata": {},
     "output_type": "execute_result"
    }
   ],
   "source": [
    "# Загрузка данных и замена запятых на точки\n",
    "alrs = pd.read_csv(r'C:\\Users\\enkid\\Downloads\\ALRS.CSV', delimiter=',',decimal=\",\")\n",
    "alrs"
   ]
  },
  {
   "cell_type": "markdown",
   "id": "90464349",
   "metadata": {},
   "source": [
    "## Скользящие статистики"
   ]
  },
  {
   "cell_type": "code",
   "execution_count": 376,
   "id": "1b7b6e02",
   "metadata": {},
   "outputs": [
    {
     "data": {
      "text/html": [
       "<div>\n",
       "<style scoped>\n",
       "    .dataframe tbody tr th:only-of-type {\n",
       "        vertical-align: middle;\n",
       "    }\n",
       "\n",
       "    .dataframe tbody tr th {\n",
       "        vertical-align: top;\n",
       "    }\n",
       "\n",
       "    .dataframe thead tr th {\n",
       "        text-align: left;\n",
       "    }\n",
       "\n",
       "    .dataframe thead tr:last-of-type th {\n",
       "        text-align: right;\n",
       "    }\n",
       "</style>\n",
       "<table border=\"1\" class=\"dataframe\">\n",
       "  <thead>\n",
       "    <tr>\n",
       "      <th>Attributes</th>\n",
       "      <th>Adj Close</th>\n",
       "      <th>Close</th>\n",
       "      <th>High</th>\n",
       "      <th>Low</th>\n",
       "      <th>Open</th>\n",
       "      <th>Volume</th>\n",
       "      <th>min</th>\n",
       "      <th>mean</th>\n",
       "      <th>std</th>\n",
       "      <th>median</th>\n",
       "      <th>max</th>\n",
       "      <th>ewma</th>\n",
       "    </tr>\n",
       "    <tr>\n",
       "      <th>Symbols</th>\n",
       "      <th>ALRS.ME</th>\n",
       "      <th>ALRS.ME</th>\n",
       "      <th>ALRS.ME</th>\n",
       "      <th>ALRS.ME</th>\n",
       "      <th>ALRS.ME</th>\n",
       "      <th>ALRS.ME</th>\n",
       "      <th></th>\n",
       "      <th></th>\n",
       "      <th></th>\n",
       "      <th></th>\n",
       "      <th></th>\n",
       "      <th></th>\n",
       "    </tr>\n",
       "    <tr>\n",
       "      <th>Date</th>\n",
       "      <th></th>\n",
       "      <th></th>\n",
       "      <th></th>\n",
       "      <th></th>\n",
       "      <th></th>\n",
       "      <th></th>\n",
       "      <th></th>\n",
       "      <th></th>\n",
       "      <th></th>\n",
       "      <th></th>\n",
       "      <th></th>\n",
       "      <th></th>\n",
       "    </tr>\n",
       "  </thead>\n",
       "  <tbody>\n",
       "    <tr>\n",
       "      <th>2015-01-05</th>\n",
       "      <td>29.834204</td>\n",
       "      <td>60.380001</td>\n",
       "      <td>64.489998</td>\n",
       "      <td>58.910000</td>\n",
       "      <td>63.950001</td>\n",
       "      <td>4150300.0</td>\n",
       "      <td>NaN</td>\n",
       "      <td>NaN</td>\n",
       "      <td>NaN</td>\n",
       "      <td>NaN</td>\n",
       "      <td>NaN</td>\n",
       "      <td>NaN</td>\n",
       "    </tr>\n",
       "    <tr>\n",
       "      <th>2015-01-06</th>\n",
       "      <td>30.278898</td>\n",
       "      <td>61.279999</td>\n",
       "      <td>62.590000</td>\n",
       "      <td>59.889999</td>\n",
       "      <td>60.200001</td>\n",
       "      <td>2560045.0</td>\n",
       "      <td>NaN</td>\n",
       "      <td>NaN</td>\n",
       "      <td>NaN</td>\n",
       "      <td>NaN</td>\n",
       "      <td>NaN</td>\n",
       "      <td>NaN</td>\n",
       "    </tr>\n",
       "    <tr>\n",
       "      <th>2015-01-08</th>\n",
       "      <td>29.745264</td>\n",
       "      <td>60.200001</td>\n",
       "      <td>63.549999</td>\n",
       "      <td>57.540001</td>\n",
       "      <td>61.279999</td>\n",
       "      <td>8930000.0</td>\n",
       "      <td>NaN</td>\n",
       "      <td>NaN</td>\n",
       "      <td>NaN</td>\n",
       "      <td>NaN</td>\n",
       "      <td>NaN</td>\n",
       "      <td>NaN</td>\n",
       "    </tr>\n",
       "    <tr>\n",
       "      <th>2015-01-09</th>\n",
       "      <td>30.590189</td>\n",
       "      <td>61.910000</td>\n",
       "      <td>63.000000</td>\n",
       "      <td>59.509998</td>\n",
       "      <td>59.509998</td>\n",
       "      <td>4551600.0</td>\n",
       "      <td>NaN</td>\n",
       "      <td>NaN</td>\n",
       "      <td>NaN</td>\n",
       "      <td>NaN</td>\n",
       "      <td>NaN</td>\n",
       "      <td>NaN</td>\n",
       "    </tr>\n",
       "    <tr>\n",
       "      <th>2015-01-12</th>\n",
       "      <td>31.128765</td>\n",
       "      <td>63.000000</td>\n",
       "      <td>63.500000</td>\n",
       "      <td>61.099998</td>\n",
       "      <td>62.939999</td>\n",
       "      <td>2552000.0</td>\n",
       "      <td>NaN</td>\n",
       "      <td>NaN</td>\n",
       "      <td>NaN</td>\n",
       "      <td>NaN</td>\n",
       "      <td>NaN</td>\n",
       "      <td>NaN</td>\n",
       "    </tr>\n",
       "    <tr>\n",
       "      <th>...</th>\n",
       "      <td>...</td>\n",
       "      <td>...</td>\n",
       "      <td>...</td>\n",
       "      <td>...</td>\n",
       "      <td>...</td>\n",
       "      <td>...</td>\n",
       "      <td>...</td>\n",
       "      <td>...</td>\n",
       "      <td>...</td>\n",
       "      <td>...</td>\n",
       "      <td>...</td>\n",
       "      <td>...</td>\n",
       "    </tr>\n",
       "    <tr>\n",
       "      <th>2021-08-26</th>\n",
       "      <td>125.682732</td>\n",
       "      <td>134.259995</td>\n",
       "      <td>135.800003</td>\n",
       "      <td>133.300003</td>\n",
       "      <td>133.710007</td>\n",
       "      <td>14374441.0</td>\n",
       "      <td>132.139999</td>\n",
       "      <td>134.827143</td>\n",
       "      <td>2.002719</td>\n",
       "      <td>134.014999</td>\n",
       "      <td>137.990005</td>\n",
       "      <td>133.993641</td>\n",
       "    </tr>\n",
       "    <tr>\n",
       "      <th>2021-08-27</th>\n",
       "      <td>125.373817</td>\n",
       "      <td>133.929993</td>\n",
       "      <td>134.539993</td>\n",
       "      <td>132.839996</td>\n",
       "      <td>134.470001</td>\n",
       "      <td>11802882.0</td>\n",
       "      <td>132.139999</td>\n",
       "      <td>134.560000</td>\n",
       "      <td>1.836917</td>\n",
       "      <td>133.849998</td>\n",
       "      <td>137.990005</td>\n",
       "      <td>133.945905</td>\n",
       "    </tr>\n",
       "    <tr>\n",
       "      <th>2021-08-30</th>\n",
       "      <td>130.513092</td>\n",
       "      <td>139.419998</td>\n",
       "      <td>139.710007</td>\n",
       "      <td>133.649994</td>\n",
       "      <td>134.500000</td>\n",
       "      <td>24065179.0</td>\n",
       "      <td>132.139999</td>\n",
       "      <td>134.688571</td>\n",
       "      <td>2.110231</td>\n",
       "      <td>133.849998</td>\n",
       "      <td>139.419998</td>\n",
       "      <td>138.051475</td>\n",
       "    </tr>\n",
       "    <tr>\n",
       "      <th>2021-08-31</th>\n",
       "      <td>136.335724</td>\n",
       "      <td>145.639999</td>\n",
       "      <td>146.500000</td>\n",
       "      <td>139.880005</td>\n",
       "      <td>140.710007</td>\n",
       "      <td>46021910.0</td>\n",
       "      <td>132.139999</td>\n",
       "      <td>135.270000</td>\n",
       "      <td>3.564643</td>\n",
       "      <td>133.849998</td>\n",
       "      <td>145.639999</td>\n",
       "      <td>143.742868</td>\n",
       "    </tr>\n",
       "    <tr>\n",
       "      <th>2021-09-01</th>\n",
       "      <td>136.167221</td>\n",
       "      <td>145.460007</td>\n",
       "      <td>147.000000</td>\n",
       "      <td>143.320007</td>\n",
       "      <td>145.350006</td>\n",
       "      <td>27671421.0</td>\n",
       "      <td>132.139999</td>\n",
       "      <td>135.803571</td>\n",
       "      <td>4.451783</td>\n",
       "      <td>133.849998</td>\n",
       "      <td>145.639999</td>\n",
       "      <td>145.030722</td>\n",
       "    </tr>\n",
       "  </tbody>\n",
       "</table>\n",
       "<p>1675 rows × 12 columns</p>\n",
       "</div>"
      ],
      "text/plain": [
       "Attributes   Adj Close       Close        High         Low        Open  \\\n",
       "Symbols        ALRS.ME     ALRS.ME     ALRS.ME     ALRS.ME     ALRS.ME   \n",
       "Date                                                                     \n",
       "2015-01-05   29.834204   60.380001   64.489998   58.910000   63.950001   \n",
       "2015-01-06   30.278898   61.279999   62.590000   59.889999   60.200001   \n",
       "2015-01-08   29.745264   60.200001   63.549999   57.540001   61.279999   \n",
       "2015-01-09   30.590189   61.910000   63.000000   59.509998   59.509998   \n",
       "2015-01-12   31.128765   63.000000   63.500000   61.099998   62.939999   \n",
       "...                ...         ...         ...         ...         ...   \n",
       "2021-08-26  125.682732  134.259995  135.800003  133.300003  133.710007   \n",
       "2021-08-27  125.373817  133.929993  134.539993  132.839996  134.470001   \n",
       "2021-08-30  130.513092  139.419998  139.710007  133.649994  134.500000   \n",
       "2021-08-31  136.335724  145.639999  146.500000  139.880005  140.710007   \n",
       "2021-09-01  136.167221  145.460007  147.000000  143.320007  145.350006   \n",
       "\n",
       "Attributes      Volume         min        mean      std       median  \\\n",
       "Symbols        ALRS.ME                                                 \n",
       "Date                                                                   \n",
       "2015-01-05   4150300.0         NaN         NaN       NaN         NaN   \n",
       "2015-01-06   2560045.0         NaN         NaN       NaN         NaN   \n",
       "2015-01-08   8930000.0         NaN         NaN       NaN         NaN   \n",
       "2015-01-09   4551600.0         NaN         NaN       NaN         NaN   \n",
       "2015-01-12   2552000.0         NaN         NaN       NaN         NaN   \n",
       "...                ...         ...         ...       ...         ...   \n",
       "2021-08-26  14374441.0  132.139999  134.827143  2.002719  134.014999   \n",
       "2021-08-27  11802882.0  132.139999  134.560000  1.836917  133.849998   \n",
       "2021-08-30  24065179.0  132.139999  134.688571  2.110231  133.849998   \n",
       "2021-08-31  46021910.0  132.139999  135.270000  3.564643  133.849998   \n",
       "2021-09-01  27671421.0  132.139999  135.803571  4.451783  133.849998   \n",
       "\n",
       "Attributes         max        ewma  \n",
       "Symbols                             \n",
       "Date                                \n",
       "2015-01-05         NaN         NaN  \n",
       "2015-01-06         NaN         NaN  \n",
       "2015-01-08         NaN         NaN  \n",
       "2015-01-09         NaN         NaN  \n",
       "2015-01-12         NaN         NaN  \n",
       "...                ...         ...  \n",
       "2021-08-26  137.990005  133.993641  \n",
       "2021-08-27  137.990005  133.945905  \n",
       "2021-08-30  139.419998  138.051475  \n",
       "2021-08-31  145.639999  143.742868  \n",
       "2021-09-01  145.639999  145.030722  \n",
       "\n",
       "[1675 rows x 12 columns]"
      ]
     },
     "execution_count": 376,
     "metadata": {},
     "output_type": "execute_result"
    }
   ],
   "source": [
    "sym='Close'\n",
    "#Определение временного окна\n",
    "window = 14\n",
    "#Скользьзящи1 минимум\n",
    "ALRS_data['min'] = ALRS_data[sym].rolling(window=window).min()\n",
    "#Скользящее среднее\n",
    "ALRS_data['mean'] = ALRS_data[sym].rolling(window=window).mean()\n",
    "#Скользящее среднеквадратичное отклонение\n",
    "ALRS_data['std '] = ALRS_data[sym].rolling(window=window).std()\n",
    "#Скользящая медиана\n",
    "ALRS_data['median'] = ALRS_data[sym].rolling(window=window).median()\n",
    "#Скольхящий минимум\n",
    "ALRS_data['max'] = ALRS_data[sym].rolling(window=window).max()\n",
    "#Экспоненциально взвешенненное скользящеее среднеее с полупериодом затухания 0,5\n",
    "ALRS_data['ewma'] = ALRS_data[sym].ewm(halflife=0.5,min_periods=window).mean()\n",
    "ALRS_data"
   ]
  },
  {
   "cell_type": "code",
   "execution_count": 377,
   "id": "cd983b01",
   "metadata": {
    "scrolled": true
   },
   "outputs": [
    {
     "data": {
      "image/png": "[encoded data removed]",
      "text/plain": [
       "<Figure size 720x432 with 1 Axes>"
      ]
     },
     "metadata": {},
     "output_type": "display_data"
    }
   ],
   "source": [
    "ax =ALRS_data[[ 'min','mean','max']].iloc[-208:].plot(figsize=(10,6),style=['g--' ,'r--','g--'], lw=0.8)\n",
    "ALRS_data[sym].iloc[-200:].plot(ax=ax, lw=2.8,color='black'); "
   ]
  },
  {
   "cell_type": "markdown",
   "id": "7503cb38",
   "metadata": {},
   "source": [
    "## Кривая скользящей статистики"
   ]
  },
  {
   "cell_type": "code",
   "execution_count": 378,
   "id": "bb44526b",
   "metadata": {
    "scrolled": true
   },
   "outputs": [
    {
     "data": {
      "text/plain": [
       "<AxesSubplot:xlabel='Date'>"
      ]
     },
     "execution_count": 378,
     "metadata": {},
     "output_type": "execute_result"
    },
    {
     "data": {
      "image/png": "[encoded data removed]",
      "text/plain": [
       "<Figure size 720x432 with 1 Axes>"
      ]
     },
     "metadata": {},
     "output_type": "display_data"
    }
   ],
   "source": [
    "sym='Close'\n",
    "ALRS_data['SMA1'] = ALRS_data[sym].rolling(window=10).mean()\n",
    "ALRS_data['SMA2'] = ALRS_data[sym].rolling(window=20).mean()\n",
    "ALRS_data[[sym,'SMA1','SMA2']].tail( )\n",
    "ALRS_data[[sym,'SMA1','SMA2']].plot(figsize=(10, 6))"
   ]
  },
  {
   "cell_type": "markdown",
   "id": "5f1828b4",
   "metadata": {},
   "source": [
    "## Замена формата даты-времени на адату в американском стиле"
   ]
  },
  {
   "cell_type": "code",
   "execution_count": 312,
   "id": "d594062e",
   "metadata": {
    "scrolled": false
   },
   "outputs": [
    {
     "data": {
      "text/html": [
       "<div>\n",
       "<style scoped>\n",
       "    .dataframe tbody tr th:only-of-type {\n",
       "        vertical-align: middle;\n",
       "    }\n",
       "\n",
       "    .dataframe tbody tr th {\n",
       "        vertical-align: top;\n",
       "    }\n",
       "\n",
       "    .dataframe thead th {\n",
       "        text-align: right;\n",
       "    }\n",
       "</style>\n",
       "<table border=\"1\" class=\"dataframe\">\n",
       "  <thead>\n",
       "    <tr style=\"text-align: right;\">\n",
       "      <th></th>\n",
       "      <th>Дата</th>\n",
       "      <th>Цена</th>\n",
       "      <th>Откр.</th>\n",
       "      <th>Макс.</th>\n",
       "      <th>Мин.</th>\n",
       "      <th>Объём</th>\n",
       "      <th>Изм. %</th>\n",
       "    </tr>\n",
       "  </thead>\n",
       "  <tbody>\n",
       "    <tr>\n",
       "      <th>0</th>\n",
       "      <td>2021-03-12</td>\n",
       "      <td>127.73</td>\n",
       "      <td>130.27</td>\n",
       "      <td>130.60</td>\n",
       "      <td>126.50</td>\n",
       "      <td>18,41M</td>\n",
       "      <td>-1,84%</td>\n",
       "    </tr>\n",
       "    <tr>\n",
       "      <th>1</th>\n",
       "      <td>2021-02-12</td>\n",
       "      <td>130.13</td>\n",
       "      <td>128.32</td>\n",
       "      <td>130.50</td>\n",
       "      <td>126.73</td>\n",
       "      <td>16,49M</td>\n",
       "      <td>1,01%</td>\n",
       "    </tr>\n",
       "    <tr>\n",
       "      <th>2</th>\n",
       "      <td>2021-01-12</td>\n",
       "      <td>128.83</td>\n",
       "      <td>129.00</td>\n",
       "      <td>130.85</td>\n",
       "      <td>127.51</td>\n",
       "      <td>27,16M</td>\n",
       "      <td>0,30%</td>\n",
       "    </tr>\n",
       "    <tr>\n",
       "      <th>3</th>\n",
       "      <td>2021-11-30</td>\n",
       "      <td>128.44</td>\n",
       "      <td>123.70</td>\n",
       "      <td>129.49</td>\n",
       "      <td>122.55</td>\n",
       "      <td>59,50M</td>\n",
       "      <td>2,76%</td>\n",
       "    </tr>\n",
       "    <tr>\n",
       "      <th>4</th>\n",
       "      <td>2021-11-29</td>\n",
       "      <td>124.99</td>\n",
       "      <td>122.98</td>\n",
       "      <td>127.25</td>\n",
       "      <td>121.40</td>\n",
       "      <td>29,04M</td>\n",
       "      <td>3,66%</td>\n",
       "    </tr>\n",
       "    <tr>\n",
       "      <th>...</th>\n",
       "      <td>...</td>\n",
       "      <td>...</td>\n",
       "      <td>...</td>\n",
       "      <td>...</td>\n",
       "      <td>...</td>\n",
       "      <td>...</td>\n",
       "      <td>...</td>\n",
       "    </tr>\n",
       "    <tr>\n",
       "      <th>2520</th>\n",
       "      <td>2011-06-12</td>\n",
       "      <td>34.80</td>\n",
       "      <td>37.00</td>\n",
       "      <td>37.10</td>\n",
       "      <td>34.75</td>\n",
       "      <td>831,10K</td>\n",
       "      <td>-6,20%</td>\n",
       "    </tr>\n",
       "    <tr>\n",
       "      <th>2521</th>\n",
       "      <td>2011-05-12</td>\n",
       "      <td>37.10</td>\n",
       "      <td>38.00</td>\n",
       "      <td>41.98</td>\n",
       "      <td>36.70</td>\n",
       "      <td>1,55M</td>\n",
       "      <td>-19,10%</td>\n",
       "    </tr>\n",
       "    <tr>\n",
       "      <th>2522</th>\n",
       "      <td>2011-02-12</td>\n",
       "      <td>45.86</td>\n",
       "      <td>103.56</td>\n",
       "      <td>107.02</td>\n",
       "      <td>45.86</td>\n",
       "      <td>1,90M</td>\n",
       "      <td>-40,01%</td>\n",
       "    </tr>\n",
       "    <tr>\n",
       "      <th>2523</th>\n",
       "      <td>2011-01-12</td>\n",
       "      <td>76.44</td>\n",
       "      <td>64.50</td>\n",
       "      <td>76.44</td>\n",
       "      <td>64.50</td>\n",
       "      <td>11,90K</td>\n",
       "      <td>40,00%</td>\n",
       "    </tr>\n",
       "    <tr>\n",
       "      <th>2524</th>\n",
       "      <td>2011-11-30</td>\n",
       "      <td>54.60</td>\n",
       "      <td>48.32</td>\n",
       "      <td>54.60</td>\n",
       "      <td>42.00</td>\n",
       "      <td>76,80K</td>\n",
       "      <td>40,00%</td>\n",
       "    </tr>\n",
       "  </tbody>\n",
       "</table>\n",
       "<p>2525 rows × 7 columns</p>\n",
       "</div>"
      ],
      "text/plain": [
       "           Дата    Цена   Откр.   Макс.    Мин.    Объём   Изм. %\n",
       "0    2021-03-12  127.73  130.27  130.60  126.50   18,41M   -1,84%\n",
       "1    2021-02-12  130.13  128.32  130.50  126.73   16,49M    1,01%\n",
       "2    2021-01-12  128.83  129.00  130.85  127.51   27,16M    0,30%\n",
       "3    2021-11-30  128.44  123.70  129.49  122.55   59,50M    2,76%\n",
       "4    2021-11-29  124.99  122.98  127.25  121.40   29,04M    3,66%\n",
       "...         ...     ...     ...     ...     ...      ...      ...\n",
       "2520 2011-06-12   34.80   37.00   37.10   34.75  831,10K   -6,20%\n",
       "2521 2011-05-12   37.10   38.00   41.98   36.70    1,55M  -19,10%\n",
       "2522 2011-02-12   45.86  103.56  107.02   45.86    1,90M  -40,01%\n",
       "2523 2011-01-12   76.44   64.50   76.44   64.50   11,90K   40,00%\n",
       "2524 2011-11-30   54.60   48.32   54.60   42.00   76,80K   40,00%\n",
       "\n",
       "[2525 rows x 7 columns]"
      ]
     },
     "execution_count": 312,
     "metadata": {},
     "output_type": "execute_result"
    }
   ],
   "source": [
    "# Замена формата даты-времени на адату в американском стиле\n",
    "alrs['Дата']=pd.to_datetime(alrs['Дата'])\n",
    "alrs"
   ]
  },
  {
   "cell_type": "code",
   "execution_count": 320,
   "id": "00d31d06",
   "metadata": {
    "scrolled": true
   },
   "outputs": [
    {
     "data": {
      "text/plain": [
       "<AxesSubplot:xlabel='Дата'>"
      ]
     },
     "execution_count": 320,
     "metadata": {},
     "output_type": "execute_result"
    },
    {
     "data": {
      "image/png": "[encoded data removed]",
      "text/plain": [
       "<Figure size 576x396 with 1 Axes>"
      ]
     },
     "metadata": {},
     "output_type": "display_data"
    }
   ],
   "source": [
    "#Получим датасет за 5 лет и сделаем индексированием по датам\n",
    "alrs=alrs.set_index(alrs.Дата)\n",
    "# alrs2015=alrs['2015-1-1':]\n",
    "# alrs2015\n",
    "alrs.Цена.plot()"
   ]
  },
  {
   "cell_type": "code",
   "execution_count": 191,
   "id": "8dd46e6d",
   "metadata": {},
   "outputs": [
    {
     "data": {
      "text/plain": [
       "Date\n",
       "2016-09-01     75.699997\n",
       "2016-09-02     76.529999\n",
       "2016-09-05     77.949997\n",
       "2016-09-06     81.250000\n",
       "2016-09-07     80.370003\n",
       "                 ...    \n",
       "2021-08-26    134.259995\n",
       "2021-08-27    133.929993\n",
       "2021-08-30    139.419998\n",
       "2021-08-31    145.639999\n",
       "2021-09-01    145.460007\n",
       "Freq: D, Name: orig, Length: 1259, dtype: float64"
      ]
     },
     "execution_count": 191,
     "metadata": {},
     "output_type": "execute_result"
    }
   ],
   "source": [
    "ttt=y.merge(preds, right_index=True,left_index=True)\n",
    "ttt['ALRS.ME'].rename('orig')\n",
    "ttt['ALRS.ME'].rename('orig')"
   ]
  },
  {
   "cell_type": "code",
   "execution_count": 193,
   "id": "0367c935",
   "metadata": {
    "scrolled": true
   },
   "outputs": [
    {
     "data": {
      "text/plain": [
       "Date\n",
       "2016-09-01      0.055743\n",
       "2016-09-02     75.755745\n",
       "2016-09-05     76.608803\n",
       "2016-09-06     78.047481\n",
       "2016-09-07     81.382659\n",
       "                 ...    \n",
       "2021-08-26    133.284156\n",
       "2021-08-27    134.274784\n",
       "2021-08-30    134.021399\n",
       "2021-08-31    139.655146\n",
       "2021-09-01    145.941121\n",
       "Freq: D, Name: predicted_mean, Length: 1259, dtype: float64"
      ]
     },
     "execution_count": 193,
     "metadata": {},
     "output_type": "execute_result"
    }
   ],
   "source": [
    "ttt.predicted_mean"
   ]
  }
 ],
 "metadata": {
  "celltoolbar": "Необработанный формат ячейки",
  "kernelspec": {
   "display_name": "Python 3",
   "language": "python",
   "name": "python3"
  },
  "language_info": {
   "codemirror_mode": {
    "name": "ipython",
    "version": 3
   },
   "file_extension": ".py",
   "mimetype": "text/x-python",
   "name": "python",
   "nbconvert_exporter": "python",
   "pygments_lexer": "ipython3",
   "version": "3.7.10"
  },
  "toc": {
   "base_numbering": 1,
   "nav_menu": {},
   "number_sections": true,
   "sideBar": true,
   "skip_h1_title": false,
   "title_cell": "Table of Contents",
   "title_sidebar": "Contents",
   "toc_cell": true,
   "toc_position": {},
   "toc_section_display": true,
   "toc_window_display": false
  },
  "varInspector": {
   "cols": {
    "lenName": 16,
    "lenType": 16,
    "lenVar": 40
   },
   "kernels_config": {
    "python": {
     "delete_cmd_postfix": "",
     "delete_cmd_prefix": "del ",
     "library": "var_list.py",
     "varRefreshCmd": "print(var_dic_list())"
    },
    "r": {
     "delete_cmd_postfix": ") ",
     "delete_cmd_prefix": "rm(",
     "library": "var_list.r",
     "varRefreshCmd": "cat(var_dic_list()) "
    }
   },
   "types_to_exclude": [
    "module",
    "function",
    "builtin_function_or_method",
    "instance",
    "_Feature"
   ],
   "window_display": false
  }
 },
 "nbformat": 4,
 "nbformat_minor": 5
}
